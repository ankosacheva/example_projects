{
 "cells": [
  {
   "cell_type": "code",
   "execution_count": 37,
   "metadata": {},
   "outputs": [],
   "source": [
    "import numpy as np\n",
    "from tensorflow import keras\n",
    "from tensorflow.keras import backend as K\n",
    "from tensorflow.keras.models import Model, Sequential\n",
    "from tensorflow.keras.layers import Dense, Dropout, Flatten, Convolution2D, MaxPooling2D, InputLayer, BatchNormalization\n",
    "import tensorflow as tf\n",
    "import pandas as pd\n",
    "from sklearn.preprocessing import OneHotEncoder\n",
    "from sklearn.model_selection import train_test_split"
   ]
  },
  {
   "cell_type": "code",
   "execution_count": 5,
   "metadata": {},
   "outputs": [],
   "source": [
    "from random import seed\n",
    "seed(35)"
   ]
  },
  {
   "cell_type": "code",
   "execution_count": 6,
   "metadata": {},
   "outputs": [],
   "source": [
    "test_set = pd.read_csv('path_to_file', low_memory=False) #Пожалуйста, вставьте путь скачанного файла fashion-mnist_test\n",
    "train_set = pd.read_csv('path_to_file', low_memory=False) #Пожалуйста, вставьте путь скачанного файла fashion-mnist_train"
   ]
  },
  {
   "cell_type": "code",
   "execution_count": 7,
   "metadata": {},
   "outputs": [],
   "source": [
    "x_train = train_set.loc[:, train_set.columns != 'label'] \n",
    "x_test = test_set.loc[:, test_set.columns != 'label']\n",
    "y_train = train_set['label']\n",
    "y_test = test_set['label']\n",
    "x_train = x_train.astype('float32')\n",
    "x_test = x_test.astype('float32')\n",
    "# масштабируем интенсивности пикселей в диапазон [0, 1]\n",
    "x_train /= 255\n",
    "x_test /= 255\n",
    "y_train = tf.keras.utils.to_categorical(y_train, num_classes=10)\n",
    "y_test = tf.keras.utils.to_categorical(y_test, num_classes=10)"
   ]
  },
  {
   "cell_type": "code",
   "execution_count": 8,
   "metadata": {},
   "outputs": [
    {
     "data": {
      "text/plain": [
       "((60000, 784), (10000, 784), (60000, 10), (10000, 10))"
      ]
     },
     "execution_count": 8,
     "metadata": {},
     "output_type": "execute_result"
    }
   ],
   "source": [
    "x_train.shape, x_test.shape, y_train.shape, y_test.shape"
   ]
  },
  {
   "cell_type": "code",
   "execution_count": 9,
   "metadata": {},
   "outputs": [],
   "source": [
    "x_train, x_val, y_train, y_val = train_test_split(x_train, y_train,\n",
    "                                            test_size=0.2, random_state=35)"
   ]
  },
  {
   "cell_type": "code",
   "execution_count": 16,
   "metadata": {},
   "outputs": [],
   "source": [
    "x_test = x_test.values.reshape(10000, 28, 28, 1)\n",
    "x_train = x_train.values.reshape(48000, 28, 28, 1)\n",
    "x_val = x_val.values.reshape(12000, 28, 28, 1)"
   ]
  },
  {
   "cell_type": "markdown",
   "metadata": {},
   "source": [
    "Сравним, как зависит качество нейронной сети от количества сверточных слоев."
   ]
  },
  {
   "cell_type": "code",
   "execution_count": 25,
   "metadata": {},
   "outputs": [],
   "source": [
    "#Сеть с двумя сверточными слоями\n",
    "\n",
    "model = Sequential()\n",
    "model.add(InputLayer(input_shape=(28,28, 1)))\n",
    "model.add(Convolution2D(32, (3, 3), activation='relu'))\n",
    "model.add(MaxPooling2D(pool_size=(2,2)))\n",
    "model.add(Convolution2D(64, (3, 3), activation='relu'))\n",
    "model.add(MaxPooling2D(pool_size=(2,2)))\n",
    "model.add(Flatten())\n",
    "model.add(Dense(64, activation='relu'))\n",
    "model.add(Dense(10, activation='softmax'))"
   ]
  },
  {
   "cell_type": "code",
   "execution_count": 26,
   "metadata": {},
   "outputs": [],
   "source": [
    "model.compile(\n",
    "  loss='categorical_crossentropy',\n",
    "  optimizer=tf.keras.optimizers.Adam(),\n",
    "  metrics=['accuracy']\n",
    ")"
   ]
  },
  {
   "cell_type": "code",
   "execution_count": 29,
   "metadata": {},
   "outputs": [],
   "source": [
    "batch_size = 128\n",
    "epochs = 20"
   ]
  },
  {
   "cell_type": "code",
   "execution_count": 30,
   "metadata": {},
   "outputs": [
    {
     "name": "stdout",
     "output_type": "stream",
     "text": [
      "Epoch 1/20\n",
      "375/375 [==============================] - 14s 39ms/step - loss: 0.1085 - accuracy: 0.9604 - val_loss: 0.2938 - val_accuracy: 0.9086\n",
      "Epoch 2/20\n",
      "375/375 [==============================] - 14s 38ms/step - loss: 0.1012 - accuracy: 0.9630 - val_loss: 0.2906 - val_accuracy: 0.9094\n",
      "Epoch 3/20\n",
      "375/375 [==============================] - 14s 39ms/step - loss: 0.0950 - accuracy: 0.9665 - val_loss: 0.3060 - val_accuracy: 0.9127\n",
      "Epoch 4/20\n",
      "375/375 [==============================] - 15s 39ms/step - loss: 0.0896 - accuracy: 0.9674 - val_loss: 0.3029 - val_accuracy: 0.9154\n",
      "Epoch 5/20\n",
      "375/375 [==============================] - 15s 39ms/step - loss: 0.0820 - accuracy: 0.9708 - val_loss: 0.3074 - val_accuracy: 0.9104\n",
      "Epoch 6/20\n",
      "375/375 [==============================] - 15s 39ms/step - loss: 0.0768 - accuracy: 0.9727 - val_loss: 0.3248 - val_accuracy: 0.9078\n",
      "Epoch 7/20\n",
      "375/375 [==============================] - 16s 43ms/step - loss: 0.0730 - accuracy: 0.9730 - val_loss: 0.3300 - val_accuracy: 0.9112\n",
      "Epoch 8/20\n",
      "375/375 [==============================] - 16s 44ms/step - loss: 0.0646 - accuracy: 0.9771 - val_loss: 0.3695 - val_accuracy: 0.9064\n",
      "Epoch 9/20\n",
      "375/375 [==============================] - 17s 45ms/step - loss: 0.0597 - accuracy: 0.9787 - val_loss: 0.3547 - val_accuracy: 0.9115\n",
      "Epoch 10/20\n",
      "375/375 [==============================] - 17s 44ms/step - loss: 0.0585 - accuracy: 0.9792 - val_loss: 0.3465 - val_accuracy: 0.9130\n",
      "Epoch 11/20\n",
      "375/375 [==============================] - 18s 47ms/step - loss: 0.0513 - accuracy: 0.9822 - val_loss: 0.3660 - val_accuracy: 0.9112\n",
      "Epoch 12/20\n",
      "375/375 [==============================] - 16s 42ms/step - loss: 0.0472 - accuracy: 0.9833 - val_loss: 0.3747 - val_accuracy: 0.9102\n",
      "Epoch 13/20\n",
      "375/375 [==============================] - 16s 44ms/step - loss: 0.0438 - accuracy: 0.9850 - val_loss: 0.3889 - val_accuracy: 0.9114\n",
      "Epoch 14/20\n",
      "375/375 [==============================] - 16s 44ms/step - loss: 0.0415 - accuracy: 0.9857 - val_loss: 0.4394 - val_accuracy: 0.9068\n",
      "Epoch 15/20\n",
      "375/375 [==============================] - 18s 48ms/step - loss: 0.0380 - accuracy: 0.9862 - val_loss: 0.4324 - val_accuracy: 0.9100\n",
      "Epoch 16/20\n",
      "375/375 [==============================] - 19s 50ms/step - loss: 0.0381 - accuracy: 0.9870 - val_loss: 0.4507 - val_accuracy: 0.9091\n",
      "Epoch 17/20\n",
      "375/375 [==============================] - 18s 49ms/step - loss: 0.0321 - accuracy: 0.9887 - val_loss: 0.4520 - val_accuracy: 0.9070\n",
      "Epoch 18/20\n",
      "375/375 [==============================] - 18s 48ms/step - loss: 0.0314 - accuracy: 0.9890 - val_loss: 0.4668 - val_accuracy: 0.9069\n",
      "Epoch 19/20\n",
      "375/375 [==============================] - 18s 47ms/step - loss: 0.0301 - accuracy: 0.9891 - val_loss: 0.4905 - val_accuracy: 0.9091\n",
      "Epoch 20/20\n",
      "375/375 [==============================] - 19s 50ms/step - loss: 0.0297 - accuracy: 0.9895 - val_loss: 0.4891 - val_accuracy: 0.9088\n"
     ]
    }
   ],
   "source": [
    "trHistory = model.fit(\n",
    "  x_train, y_train,\n",
    "  batch_size=batch_size,\n",
    "  epochs=epochs,\n",
    "  verbose=1,\n",
    "  validation_data=(x_val, y_val)\n",
    ")"
   ]
  },
  {
   "cell_type": "code",
   "execution_count": 31,
   "metadata": {},
   "outputs": [
    {
     "name": "stdout",
     "output_type": "stream",
     "text": [
      "Two layers CNC test accuracy: 0.914900004863739\n"
     ]
    }
   ],
   "source": [
    "two_layers_loss, two_layers_accuracy = model.evaluate(x_test, y_test, verbose=0)\n",
    "print('Two layers CNC test accuracy:', two_layers_accuracy)"
   ]
  },
  {
   "cell_type": "markdown",
   "metadata": {},
   "source": [
    "Сверточная нейронная сеть из двух скрытых слоев показывает показывает результаты, превосходящие логистическую регрессию и полносвязную нейпронную сеть, так как сверточные сети отличаются очень высокой способностью к распознаванию паттернов на изображениях, являясь самый популярный вариант для их обработки."
   ]
  },
  {
   "cell_type": "markdown",
   "metadata": {},
   "source": [
    "Добавим еще один слой."
   ]
  },
  {
   "cell_type": "code",
   "execution_count": 33,
   "metadata": {},
   "outputs": [],
   "source": [
    "#Сеть с тремя сверточными слоями \n",
    "model = Sequential()\n",
    "model.add(InputLayer(input_shape=(28,28, 1)))\n",
    "model.add(Convolution2D(16, (3, 3), activation='relu'))\n",
    "model.add(MaxPooling2D(pool_size=(2,2)))\n",
    "model.add(Convolution2D(32, (3, 3), activation='relu'))\n",
    "model.add(MaxPooling2D(pool_size=(2,2)))\n",
    "model.add(Convolution2D(64, (3, 3), activation='relu'))\n",
    "model.add(MaxPooling2D(pool_size=(2,2)))\n",
    "model.add(Flatten())\n",
    "model.add(Dense(64, activation='relu'))\n",
    "model.add(Dense(10, activation='softmax'))\n"
   ]
  },
  {
   "cell_type": "code",
   "execution_count": 34,
   "metadata": {},
   "outputs": [],
   "source": [
    "model.compile(\n",
    "  loss='categorical_crossentropy',\n",
    "  optimizer=tf.keras.optimizers.Adam(),\n",
    "  metrics=['accuracy']\n",
    ")"
   ]
  },
  {
   "cell_type": "code",
   "execution_count": 35,
   "metadata": {},
   "outputs": [
    {
     "name": "stdout",
     "output_type": "stream",
     "text": [
      "Epoch 1/20\n",
      "375/375 [==============================] - 8s 20ms/step - loss: 0.8255 - accuracy: 0.7002 - val_loss: 0.5935 - val_accuracy: 0.7846\n",
      "Epoch 2/20\n",
      "375/375 [==============================] - 8s 21ms/step - loss: 0.5465 - accuracy: 0.8026 - val_loss: 0.5205 - val_accuracy: 0.8088\n",
      "Epoch 3/20\n",
      "375/375 [==============================] - 8s 21ms/step - loss: 0.4835 - accuracy: 0.8261 - val_loss: 0.4501 - val_accuracy: 0.8317\n",
      "Epoch 4/20\n",
      "375/375 [==============================] - 8s 21ms/step - loss: 0.4442 - accuracy: 0.8396 - val_loss: 0.4280 - val_accuracy: 0.8422\n",
      "Epoch 5/20\n",
      "375/375 [==============================] - 8s 21ms/step - loss: 0.4162 - accuracy: 0.8497 - val_loss: 0.4050 - val_accuracy: 0.8514\n",
      "Epoch 6/20\n",
      "375/375 [==============================] - 8s 21ms/step - loss: 0.3916 - accuracy: 0.8583 - val_loss: 0.3934 - val_accuracy: 0.8572\n",
      "Epoch 7/20\n",
      "375/375 [==============================] - 8s 21ms/step - loss: 0.3733 - accuracy: 0.8644 - val_loss: 0.3628 - val_accuracy: 0.8660\n",
      "Epoch 8/20\n",
      "375/375 [==============================] - 8s 22ms/step - loss: 0.3587 - accuracy: 0.8695 - val_loss: 0.3598 - val_accuracy: 0.8665\n",
      "Epoch 9/20\n",
      "375/375 [==============================] - 9s 25ms/step - loss: 0.3448 - accuracy: 0.8726 - val_loss: 0.3472 - val_accuracy: 0.8710\n",
      "Epoch 10/20\n",
      "375/375 [==============================] - 9s 23ms/step - loss: 0.3322 - accuracy: 0.8792 - val_loss: 0.3568 - val_accuracy: 0.8676\n",
      "Epoch 11/20\n",
      "375/375 [==============================] - 9s 25ms/step - loss: 0.3187 - accuracy: 0.8834 - val_loss: 0.3439 - val_accuracy: 0.8712\n",
      "Epoch 12/20\n",
      "375/375 [==============================] - 9s 23ms/step - loss: 0.3101 - accuracy: 0.8864 - val_loss: 0.3389 - val_accuracy: 0.8762\n",
      "Epoch 13/20\n",
      "375/375 [==============================] - 9s 23ms/step - loss: 0.3032 - accuracy: 0.8892 - val_loss: 0.3374 - val_accuracy: 0.8746\n",
      "Epoch 14/20\n",
      "375/375 [==============================] - 9s 23ms/step - loss: 0.2906 - accuracy: 0.8937 - val_loss: 0.3183 - val_accuracy: 0.8836\n",
      "Epoch 15/20\n",
      "375/375 [==============================] - 12s 31ms/step - loss: 0.2844 - accuracy: 0.8948 - val_loss: 0.3157 - val_accuracy: 0.8832\n",
      "Epoch 16/20\n",
      "375/375 [==============================] - 10s 27ms/step - loss: 0.2774 - accuracy: 0.8973 - val_loss: 0.3251 - val_accuracy: 0.8826\n",
      "Epoch 17/20\n",
      "375/375 [==============================] - 8s 22ms/step - loss: 0.2690 - accuracy: 0.9029 - val_loss: 0.3296 - val_accuracy: 0.8818\n",
      "Epoch 18/20\n",
      "375/375 [==============================] - 9s 24ms/step - loss: 0.2636 - accuracy: 0.9028 - val_loss: 0.3129 - val_accuracy: 0.8837\n",
      "Epoch 19/20\n",
      "375/375 [==============================] - 9s 25ms/step - loss: 0.2534 - accuracy: 0.9074 - val_loss: 0.3238 - val_accuracy: 0.8833\n",
      "Epoch 20/20\n",
      "375/375 [==============================] - 9s 25ms/step - loss: 0.2521 - accuracy: 0.9066 - val_loss: 0.3176 - val_accuracy: 0.8844\n"
     ]
    }
   ],
   "source": [
    "trHistory = model.fit(\n",
    "  x_train, y_train,\n",
    "  batch_size=batch_size,\n",
    "  epochs=epochs,\n",
    "  verbose=1,\n",
    "  validation_data=(x_val, y_val)\n",
    ")"
   ]
  },
  {
   "cell_type": "code",
   "execution_count": null,
   "metadata": {},
   "outputs": [],
   "source": [
    "three_layer_loss, three_layer_accuracy = model.evaluate(x_test, y_test, verbose=0)\n",
    "print('Three layer CNN Test accuracy :', three_laye_accuracy)"
   ]
  },
  {
   "cell_type": "markdown",
   "metadata": {},
   "source": [
    "Качество на тестовой выборке значительно упало,так как модель переобучилась."
   ]
  },
  {
   "cell_type": "markdown",
   "metadata": {},
   "source": [
    "Добавим к сети из двух сверточных слоев BatchNormalization слои и посмотрим, улучшит ли это качество.\n"
   ]
  },
  {
   "cell_type": "code",
   "execution_count": 38,
   "metadata": {},
   "outputs": [],
   "source": [
    "#Сеть с двуми серточными слоями и BatchNormalization слоями\n",
    "#Сеть с двумя сверточными слоями\n",
    "\n",
    "model = Sequential()\n",
    "model.add(InputLayer(input_shape=(28,28, 1)))\n",
    "model.add(Convolution2D(32, (3, 3), activation='relu'))\n",
    "model.add(BatchNormalization())\n",
    "model.add(MaxPooling2D(pool_size=(2,2)))\n",
    "model.add(Convolution2D(64, (3, 3), activation='relu'))\n",
    "model.add(BatchNormalization())\n",
    "model.add(MaxPooling2D(pool_size=(2,2)))\n",
    "model.add(Flatten())\n",
    "model.add(Dense(64, activation='relu'))\n",
    "model.add(Dense(10, activation='softmax'))\n"
   ]
  },
  {
   "cell_type": "code",
   "execution_count": 39,
   "metadata": {},
   "outputs": [],
   "source": [
    "model.compile(\n",
    "  loss='categorical_crossentropy',\n",
    "  optimizer=tf.keras.optimizers.Adam(),\n",
    "  metrics=['accuracy']\n",
    ")"
   ]
  },
  {
   "cell_type": "code",
   "execution_count": 40,
   "metadata": {},
   "outputs": [],
   "source": [
    "batch_size = 128\n",
    "epochs = 20"
   ]
  },
  {
   "cell_type": "code",
   "execution_count": 42,
   "metadata": {},
   "outputs": [
    {
     "name": "stdout",
     "output_type": "stream",
     "text": [
      "Epoch 1/20\n",
      "375/375 [==============================] - 21s 55ms/step - loss: 0.3665 - accuracy: 0.8675 - val_loss: 0.7108 - val_accuracy: 0.7548\n",
      "Epoch 2/20\n",
      "375/375 [==============================] - 22s 58ms/step - loss: 0.2792 - accuracy: 0.8977 - val_loss: 0.3438 - val_accuracy: 0.8717\n",
      "Epoch 3/20\n",
      "375/375 [==============================] - 22s 58ms/step - loss: 0.2306 - accuracy: 0.9143 - val_loss: 0.3595 - val_accuracy: 0.8703\n",
      "Epoch 4/20\n",
      "375/375 [==============================] - 22s 59ms/step - loss: 0.2016 - accuracy: 0.9256 - val_loss: 0.2952 - val_accuracy: 0.8993\n",
      "Epoch 5/20\n",
      "375/375 [==============================] - 23s 61ms/step - loss: 0.1728 - accuracy: 0.9361 - val_loss: 0.2626 - val_accuracy: 0.9057\n",
      "Epoch 6/20\n",
      "375/375 [==============================] - 24s 65ms/step - loss: 0.1533 - accuracy: 0.9440 - val_loss: 0.2954 - val_accuracy: 0.8973\n",
      "Epoch 7/20\n",
      "375/375 [==============================] - 24s 65ms/step - loss: 0.1313 - accuracy: 0.9517 - val_loss: 0.2837 - val_accuracy: 0.9048\n",
      "Epoch 8/20\n",
      "375/375 [==============================] - 23s 63ms/step - loss: 0.1132 - accuracy: 0.9590 - val_loss: 0.2964 - val_accuracy: 0.9079\n",
      "Epoch 9/20\n",
      "375/375 [==============================] - 23s 61ms/step - loss: 0.0994 - accuracy: 0.9631 - val_loss: 0.3180 - val_accuracy: 0.9015\n",
      "Epoch 10/20\n",
      "375/375 [==============================] - 24s 63ms/step - loss: 0.0860 - accuracy: 0.9684 - val_loss: 0.3846 - val_accuracy: 0.8938\n",
      "Epoch 11/20\n",
      "375/375 [==============================] - 25s 67ms/step - loss: 0.0823 - accuracy: 0.9703 - val_loss: 0.3952 - val_accuracy: 0.8982\n",
      "Epoch 12/20\n",
      "375/375 [==============================] - 25s 66ms/step - loss: 0.0718 - accuracy: 0.9735 - val_loss: 0.3786 - val_accuracy: 0.9057\n",
      "Epoch 13/20\n",
      "375/375 [==============================] - 24s 65ms/step - loss: 0.0598 - accuracy: 0.9784 - val_loss: 0.3839 - val_accuracy: 0.9062\n",
      "Epoch 14/20\n",
      "375/375 [==============================] - 27s 73ms/step - loss: 0.0538 - accuracy: 0.9797 - val_loss: 0.3837 - val_accuracy: 0.9098\n",
      "Epoch 15/20\n",
      "375/375 [==============================] - 25s 67ms/step - loss: 0.0467 - accuracy: 0.9828 - val_loss: 0.4735 - val_accuracy: 0.8955\n",
      "Epoch 16/20\n",
      "375/375 [==============================] - 25s 67ms/step - loss: 0.0458 - accuracy: 0.9831 - val_loss: 0.4597 - val_accuracy: 0.9044\n",
      "Epoch 17/20\n",
      "375/375 [==============================] - 25s 67ms/step - loss: 0.0408 - accuracy: 0.9854 - val_loss: 0.4576 - val_accuracy: 0.9033\n",
      "Epoch 18/20\n",
      "375/375 [==============================] - 24s 65ms/step - loss: 0.0461 - accuracy: 0.9830 - val_loss: 0.4633 - val_accuracy: 0.9082\n",
      "Epoch 19/20\n",
      "375/375 [==============================] - 25s 67ms/step - loss: 0.0352 - accuracy: 0.9872 - val_loss: 0.5216 - val_accuracy: 0.9023\n",
      "Epoch 20/20\n",
      "375/375 [==============================] - 24s 65ms/step - loss: 0.0306 - accuracy: 0.9892 - val_loss: 0.7517 - val_accuracy: 0.8820\n"
     ]
    }
   ],
   "source": [
    "trHistory = model.fit(\n",
    "  x_train, y_train,\n",
    "  batch_size=batch_size,\n",
    "  epochs=epochs,\n",
    "  verbose=1,\n",
    "  validation_data=(x_val, y_val)\n",
    ")"
   ]
  },
  {
   "cell_type": "code",
   "execution_count": 43,
   "metadata": {},
   "outputs": [
    {
     "name": "stdout",
     "output_type": "stream",
     "text": [
      "Batch layer CNC: 0.8830000162124634\n"
     ]
    }
   ],
   "source": [
    "batch_layer_loss, batch_layer_accuracy = model.evaluate(x_test, y_test, verbose=0)\n",
    "print('Batch layer CNC Test Accuracy:', batch_layer_accuracy)"
   ]
  },
  {
   "cell_type": "code",
   "execution_count": 45,
   "metadata": {},
   "outputs": [
    {
     "name": "stdout",
     "output_type": "stream",
     "text": [
      "Two layers CNC: 0.914900004863739\n",
      "Batch layer CNC: 0.8830000162124634\n"
     ]
    }
   ],
   "source": [
    "print('Two layers CNC:', two_layers_accuracy)\n",
    "print('Batch layer CNC:', batch_layer_accuracy)\n"
   ]
  },
  {
   "cell_type": "markdown",
   "metadata": {},
   "source": [
    "Добавление BatchNormalization слоев не помогло улучшить качество, значит, мы получаем данные примерно одного порядка и нормализовать их дополнительно не требуется."
   ]
  }
 ],
 "metadata": {
  "kernelspec": {
   "display_name": "Python 3",
   "language": "python",
   "name": "python3"
  },
  "language_info": {
   "codemirror_mode": {
    "name": "ipython",
    "version": 3
   },
   "file_extension": ".py",
   "mimetype": "text/x-python",
   "name": "python",
   "nbconvert_exporter": "python",
   "pygments_lexer": "ipython3",
   "version": "3.8.2"
  }
 },
 "nbformat": 4,
 "nbformat_minor": 4
}
